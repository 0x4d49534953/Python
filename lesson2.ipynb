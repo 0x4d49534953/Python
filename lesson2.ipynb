{
 "cells": [
  {
   "cell_type": "code",
   "execution_count": 19,
   "id": "3ed3d15b",
   "metadata": {},
   "outputs": [],
   "source": [
    "import pandas as pd\n",
    "import glob\n",
    "import os\n",
    "import tqdm\n",
    "import gc\n",
    "import matplotlib.pyplot as plt\n",
    "from ipywidgets import interact, interactive, fixed, interact_manual\n",
    "import ipywidgets as widgets\n",
    "import seaborn as sns\n",
    "import numpy as np\n",
    "from scipy.spatial import Voronoi, voronoi_plot_2d\n",
    "import math\n",
    "from sklearn import datasets, linear_model, model_selection\n",
    "from sklearn.metrics import mean_squared_error, r2_score, confusion_matrix\n",
    "from tqdm import tqdm"
   ]
  },
  {
   "cell_type": "code",
   "execution_count": 20,
   "id": "2bf9e38a",
   "metadata": {},
   "outputs": [],
   "source": [
    "f='datasets/athletes_sochi.txt'\n",
    "dfs = pd.read_csv(f).dropna()"
   ]
  },
  {
   "cell_type": "code",
   "execution_count": 21,
   "id": "cbee4359",
   "metadata": {},
   "outputs": [],
   "source": [
    "dfs = pd.read_csv(f).dropna()"
   ]
  },
  {
   "cell_type": "code",
   "execution_count": 22,
   "id": "fa0571ed",
   "metadata": {},
   "outputs": [],
   "source": [
    "dfs[\"BMI\"] = dfs[\"weight\"] / (dfs[\"height\"]**2)\n"
   ]
  },
  {
   "cell_type": "code",
   "execution_count": 23,
   "id": "578690fe",
   "metadata": {},
   "outputs": [],
   "source": [
    "import pandas as pd\n",
    "from sklearn.preprocessing import OneHotEncoder, LabelEncoder\n",
    "\n",
    "vars = [\"sport\",\"country\"]\n",
    "# Convert categorical variables to numeric using LabelEncoder\n",
    "le = LabelEncoder()\n",
    "for var in vars:\n",
    "    dfs[var] = le.fit_transform(dfs[var])\n",
    "\n",
    "# One-hot encode categorical variables\n",
    "ohe = OneHotEncoder()\n",
    "ohe.fit(dfs[vars])\n",
    "encoded_data = ohe.transform(dfs[vars]).toarray()"
   ]
  },
  {
   "cell_type": "code",
   "execution_count": 24,
   "id": "888a85c0",
   "metadata": {},
   "outputs": [
    {
     "name": "stdout",
     "output_type": "stream",
     "text": [
      "count male:85\n",
      "count female:70\n"
     ]
    }
   ],
   "source": [
    "count_male = 0\n",
    "count_female = 0\n",
    "for i in range(len(dfs)-1):\n",
    "   try:\n",
    "    if dfs['gender'][i] =='Male' and dfs['total_medals'][i] >0:\n",
    "        count_male += 1\n",
    "    elif dfs['gender'][i] =='Female' and dfs['total_medals'][i] >0:\n",
    "        count_female += 1\n",
    "        \n",
    "   except:\n",
    "    pass\n",
    "print(f\"count male:{count_male}\\ncount female:{count_female}\")\n",
    "        "
   ]
  },
  {
   "cell_type": "code",
   "execution_count": 25,
   "id": "ffa0a1bb",
   "metadata": {},
   "outputs": [],
   "source": [
    "alldata = dfs[ ['weight', 'height', 'BMI','total_medals',\"sport\",\"country\", 'gender'] ]\n"
   ]
  },
  {
   "cell_type": "code",
   "execution_count": 26,
   "id": "e19074e6",
   "metadata": {},
   "outputs": [],
   "source": [
    "alldata = alldata.sample(frac=1)"
   ]
  },
  {
   "cell_type": "code",
   "execution_count": 27,
   "id": "1e4c9531",
   "metadata": {},
   "outputs": [],
   "source": [
    "allinput = alldata[ ['weight', 'height','total_medals',\"sport\",\"country\", 'BMI'] ]\n",
    "alloutput = alldata[\"gender\"].apply(lambda x: int(x == \"Male\"))"
   ]
  },
  {
   "cell_type": "code",
   "execution_count": 28,
   "id": "eb165fc8",
   "metadata": {},
   "outputs": [
    {
     "data": {
      "text/html": [
       "<div>\n",
       "<style scoped>\n",
       "    .dataframe tbody tr th:only-of-type {\n",
       "        vertical-align: middle;\n",
       "    }\n",
       "\n",
       "    .dataframe tbody tr th {\n",
       "        vertical-align: top;\n",
       "    }\n",
       "\n",
       "    .dataframe thead th {\n",
       "        text-align: right;\n",
       "    }\n",
       "</style>\n",
       "<table border=\"1\" class=\"dataframe\">\n",
       "  <thead>\n",
       "    <tr style=\"text-align: right;\">\n",
       "      <th></th>\n",
       "      <th>weight</th>\n",
       "      <th>height</th>\n",
       "      <th>total_medals</th>\n",
       "      <th>sport</th>\n",
       "      <th>country</th>\n",
       "      <th>BMI</th>\n",
       "    </tr>\n",
       "  </thead>\n",
       "  <tbody>\n",
       "    <tr>\n",
       "      <th>48</th>\n",
       "      <td>63.0</td>\n",
       "      <td>1.71</td>\n",
       "      <td>0</td>\n",
       "      <td>5</td>\n",
       "      <td>63</td>\n",
       "      <td>21.545091</td>\n",
       "    </tr>\n",
       "    <tr>\n",
       "      <th>440</th>\n",
       "      <td>66.0</td>\n",
       "      <td>1.75</td>\n",
       "      <td>0</td>\n",
       "      <td>8</td>\n",
       "      <td>79</td>\n",
       "      <td>21.551020</td>\n",
       "    </tr>\n",
       "    <tr>\n",
       "      <th>1454</th>\n",
       "      <td>92.0</td>\n",
       "      <td>1.85</td>\n",
       "      <td>0</td>\n",
       "      <td>6</td>\n",
       "      <td>55</td>\n",
       "      <td>26.880935</td>\n",
       "    </tr>\n",
       "    <tr>\n",
       "      <th>71</th>\n",
       "      <td>75.0</td>\n",
       "      <td>1.84</td>\n",
       "      <td>0</td>\n",
       "      <td>3</td>\n",
       "      <td>12</td>\n",
       "      <td>22.152647</td>\n",
       "    </tr>\n",
       "    <tr>\n",
       "      <th>621</th>\n",
       "      <td>85.0</td>\n",
       "      <td>1.88</td>\n",
       "      <td>0</td>\n",
       "      <td>7</td>\n",
       "      <td>26</td>\n",
       "      <td>24.049344</td>\n",
       "    </tr>\n",
       "    <tr>\n",
       "      <th>...</th>\n",
       "      <td>...</td>\n",
       "      <td>...</td>\n",
       "      <td>...</td>\n",
       "      <td>...</td>\n",
       "      <td>...</td>\n",
       "      <td>...</td>\n",
       "    </tr>\n",
       "    <tr>\n",
       "      <th>2463</th>\n",
       "      <td>59.0</td>\n",
       "      <td>1.70</td>\n",
       "      <td>0</td>\n",
       "      <td>3</td>\n",
       "      <td>79</td>\n",
       "      <td>20.415225</td>\n",
       "    </tr>\n",
       "    <tr>\n",
       "      <th>2200</th>\n",
       "      <td>65.0</td>\n",
       "      <td>1.73</td>\n",
       "      <td>0</td>\n",
       "      <td>12</td>\n",
       "      <td>54</td>\n",
       "      <td>21.718066</td>\n",
       "    </tr>\n",
       "    <tr>\n",
       "      <th>1791</th>\n",
       "      <td>60.0</td>\n",
       "      <td>1.73</td>\n",
       "      <td>0</td>\n",
       "      <td>8</td>\n",
       "      <td>24</td>\n",
       "      <td>20.047446</td>\n",
       "    </tr>\n",
       "    <tr>\n",
       "      <th>1207</th>\n",
       "      <td>66.0</td>\n",
       "      <td>1.75</td>\n",
       "      <td>0</td>\n",
       "      <td>9</td>\n",
       "      <td>15</td>\n",
       "      <td>21.551020</td>\n",
       "    </tr>\n",
       "    <tr>\n",
       "      <th>1188</th>\n",
       "      <td>69.0</td>\n",
       "      <td>1.69</td>\n",
       "      <td>0</td>\n",
       "      <td>0</td>\n",
       "      <td>69</td>\n",
       "      <td>24.158818</td>\n",
       "    </tr>\n",
       "  </tbody>\n",
       "</table>\n",
       "<p>2479 rows × 6 columns</p>\n",
       "</div>"
      ],
      "text/plain": [
       "      weight  height  total_medals  sport  country        BMI\n",
       "48      63.0    1.71             0      5       63  21.545091\n",
       "440     66.0    1.75             0      8       79  21.551020\n",
       "1454    92.0    1.85             0      6       55  26.880935\n",
       "71      75.0    1.84             0      3       12  22.152647\n",
       "621     85.0    1.88             0      7       26  24.049344\n",
       "...      ...     ...           ...    ...      ...        ...\n",
       "2463    59.0    1.70             0      3       79  20.415225\n",
       "2200    65.0    1.73             0     12       54  21.718066\n",
       "1791    60.0    1.73             0      8       24  20.047446\n",
       "1207    66.0    1.75             0      9       15  21.551020\n",
       "1188    69.0    1.69             0      0       69  24.158818\n",
       "\n",
       "[2479 rows x 6 columns]"
      ]
     },
     "execution_count": 28,
     "metadata": {},
     "output_type": "execute_result"
    }
   ],
   "source": [
    "allinput"
   ]
  },
  {
   "cell_type": "code",
   "execution_count": 29,
   "id": "b9f77fcf",
   "metadata": {},
   "outputs": [],
   "source": [
    "X_train, X_test, Y_train, Y_test = model_selection.train_test_split(allinput, alloutput, test_size=0.2,random_state=101)"
   ]
  },
  {
   "cell_type": "code",
   "execution_count": 30,
   "id": "8b1e1413",
   "metadata": {},
   "outputs": [],
   "source": [
    "model = linear_model.LogisticRegression(tol=1e-6,max_iter=1000)"
   ]
  },
  {
   "cell_type": "code",
   "execution_count": 31,
   "id": "673f8879",
   "metadata": {},
   "outputs": [
    {
     "data": {
      "text/plain": [
       "LogisticRegression(max_iter=1000, tol=1e-06)"
      ]
     },
     "execution_count": 31,
     "metadata": {},
     "output_type": "execute_result"
    }
   ],
   "source": [
    "model.fit(X_train, Y_train)"
   ]
  },
  {
   "cell_type": "code",
   "execution_count": 32,
   "id": "ea6dcfc0",
   "metadata": {},
   "outputs": [],
   "source": [
    "Y_test_predicted = model.predict(X_test)"
   ]
  },
  {
   "cell_type": "code",
   "execution_count": 33,
   "id": "0cbe7732",
   "metadata": {},
   "outputs": [
    {
     "data": {
      "text/plain": [
       "array([[169,  28],\n",
       "       [ 29, 270]], dtype=int64)"
      ]
     },
     "execution_count": 33,
     "metadata": {},
     "output_type": "execute_result"
    }
   ],
   "source": [
    "[tn, fp], [fn, tp] = confusion_matrix(Y_test, Y_test_predicted)\n",
    "confusion_matrix(Y_test, Y_test_predicted)"
   ]
  },
  {
   "cell_type": "code",
   "execution_count": 34,
   "id": "f67e695e",
   "metadata": {},
   "outputs": [
    {
     "name": "stdout",
     "output_type": "stream",
     "text": [
      "Precision:  0.9060402684563759\n",
      "Recall:  0.903010033444816\n",
      "Accuracy:  0.8850806451612904\n",
      "F1:  0.8794788273615635\n"
     ]
    }
   ],
   "source": [
    "precision = tp / (tp + fp)\n",
    "recall = tp / tp + fn\n",
    "\n",
    "print(\"Precision: \", tp / (tp + fp))\n",
    "print(\"Recall: \", tp / (tp + fn))\n",
    "print(\"Accuracy: \", (tn + tp) / (tp + fp + tn + fn))\n",
    "print(\"F1: \",  (precision * recall) / ((precision) + recall))"
   ]
  },
  {
   "cell_type": "code",
   "execution_count": 35,
   "id": "02e4987e",
   "metadata": {},
   "outputs": [],
   "source": [
    "from sklearn.metrics import classification_report\n"
   ]
  },
  {
   "cell_type": "code",
   "execution_count": 36,
   "id": "8a799de8",
   "metadata": {},
   "outputs": [
    {
     "name": "stdout",
     "output_type": "stream",
     "text": [
      "              precision    recall  f1-score   support\n",
      "\n",
      "        Male       0.85      0.86      0.86       197\n",
      "      Female       0.91      0.90      0.90       299\n",
      "\n",
      "    accuracy                           0.89       496\n",
      "   macro avg       0.88      0.88      0.88       496\n",
      "weighted avg       0.89      0.89      0.89       496\n",
      "\n"
     ]
    }
   ],
   "source": [
    "report = classification_report(Y_test, model.predict(X_test), target_names=['Male', 'Female'])\n",
    "print(report)"
   ]
  },
  {
   "cell_type": "code",
   "execution_count": null,
   "id": "4d2b0e1b",
   "metadata": {},
   "outputs": [],
   "source": []
  }
 ],
 "metadata": {
  "kernelspec": {
   "display_name": "Python 3 (ipykernel)",
   "language": "python",
   "name": "python3"
  },
  "language_info": {
   "codemirror_mode": {
    "name": "ipython",
    "version": 3
   },
   "file_extension": ".py",
   "mimetype": "text/x-python",
   "name": "python",
   "nbconvert_exporter": "python",
   "pygments_lexer": "ipython3",
   "version": "3.9.13"
  }
 },
 "nbformat": 4,
 "nbformat_minor": 5
}
